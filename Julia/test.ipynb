{
 "cells": [
  {
   "cell_type": "code",
   "execution_count": 1,
   "metadata": {},
   "outputs": [
    {
     "ename": "UndefVarError",
     "evalue": "UndefVarError: line not defined",
     "output_type": "error",
     "traceback": [
      "UndefVarError: line not defined",
      "",
      "Stacktrace:",
      " [1] top-level scope at In[1]:1"
     ]
    }
   ],
   "source": [
    "m = match(r\"^\\s*(?:#|$)\", line)\n",
    "if m === nothing\n",
    "    pintln(\"not a comment\")\n",
    "else\n",
    "    println(\"blank or comment\")\n",
    "end"
   ]
  },
  {
   "cell_type": "code",
   "execution_count": 1,
   "metadata": {
    "scrolled": true
   },
   "outputs": [
    {
     "name": "stderr",
     "output_type": "stream",
     "text": [
      "\u001b[32m\u001b[1m   Updating\u001b[22m\u001b[39m registry at `C:\\Users\\cytogen\\.julia\\registries\\General`\n",
      "\u001b[32m\u001b[1m   Updating\u001b[22m\u001b[39m git-repo `https://github.com/JuliaRegistries/General.git`\n"
     ]
    },
    {
     "name": "stdout",
     "output_type": "stream",
     "text": [
      "\u001b[?25l\u001b[2K\u001b[?25h"
     ]
    },
    {
     "name": "stderr",
     "output_type": "stream",
     "text": [
      "\u001b[32m\u001b[1m  Resolving\u001b[22m\u001b[39m package versions...\n",
      "\u001b[32m\u001b[1m  Installed\u001b[22m\u001b[39m PooledArrays ─────── v0.5.3\n",
      "\u001b[32m\u001b[1m  Installed\u001b[22m\u001b[39m SortingAlgorithms ── v0.3.1\n",
      "\u001b[32m\u001b[1m  Installed\u001b[22m\u001b[39m WeakRefStrings ───── v0.6.2\n",
      "\u001b[32m\u001b[1m  Installed\u001b[22m\u001b[39m Missings ─────────── v0.4.3\n",
      "\u001b[32m\u001b[1m  Installed\u001b[22m\u001b[39m FilePathsBase ────── v0.7.0\n",
      "\u001b[32m\u001b[1m  Installed\u001b[22m\u001b[39m DataStructures ───── v0.17.11\n",
      "\u001b[32m\u001b[1m  Installed\u001b[22m\u001b[39m CategoricalArrays ── v0.7.7\n",
      "\u001b[32m\u001b[1m  Installed\u001b[22m\u001b[39m CSV ──────────────── v0.6.0\n",
      "\u001b[32m\u001b[1m  Installed\u001b[22m\u001b[39m Compat ───────────── v3.8.0\n",
      "\u001b[32m\u001b[1m  Installed\u001b[22m\u001b[39m Reexport ─────────── v0.2.0\n",
      "\u001b[32m\u001b[1m  Installed\u001b[22m\u001b[39m OrderedCollections ─ v1.1.0\n",
      "\u001b[32m\u001b[1m  Installed\u001b[22m\u001b[39m DataFrames ───────── v0.20.2\n",
      "\u001b[32m\u001b[1m  Installed\u001b[22m\u001b[39m InvertedIndices ──── v1.0.0\n",
      "\u001b[32m\u001b[1m   Updating\u001b[22m\u001b[39m `C:\\Users\\cytogen\\.julia\\environments\\v1.4\\Project.toml`\n",
      " \u001b[90m [336ed68f]\u001b[39m\u001b[92m + CSV v0.6.0\u001b[39m\n",
      "\u001b[32m\u001b[1m   Updating\u001b[22m\u001b[39m `C:\\Users\\cytogen\\.julia\\environments\\v1.4\\Manifest.toml`\n",
      " \u001b[90m [336ed68f]\u001b[39m\u001b[92m + CSV v0.6.0\u001b[39m\n",
      " \u001b[90m [324d7699]\u001b[39m\u001b[92m + CategoricalArrays v0.7.7\u001b[39m\n",
      " \u001b[90m [34da2185]\u001b[39m\u001b[92m + Compat v3.8.0\u001b[39m\n",
      " \u001b[90m [a93c6f00]\u001b[39m\u001b[92m + DataFrames v0.20.2\u001b[39m\n",
      " \u001b[90m [864edb3b]\u001b[39m\u001b[92m + DataStructures v0.17.11\u001b[39m\n",
      " \u001b[90m [48062228]\u001b[39m\u001b[92m + FilePathsBase v0.7.0\u001b[39m\n",
      " \u001b[90m [41ab1584]\u001b[39m\u001b[92m + InvertedIndices v1.0.0\u001b[39m\n",
      " \u001b[90m [e1d29d7a]\u001b[39m\u001b[92m + Missings v0.4.3\u001b[39m\n",
      " \u001b[90m [bac558e1]\u001b[39m\u001b[92m + OrderedCollections v1.1.0\u001b[39m\n",
      " \u001b[90m [2dfb63ee]\u001b[39m\u001b[92m + PooledArrays v0.5.3\u001b[39m\n",
      " \u001b[90m [189a3867]\u001b[39m\u001b[92m + Reexport v0.2.0\u001b[39m\n",
      " \u001b[90m [a2af1166]\u001b[39m\u001b[92m + SortingAlgorithms v0.3.1\u001b[39m\n",
      " \u001b[90m [ea10d353]\u001b[39m\u001b[92m + WeakRefStrings v0.6.2\u001b[39m\n",
      " \u001b[90m [8bb1440f]\u001b[39m\u001b[92m + DelimitedFiles \u001b[39m\n",
      " \u001b[90m [9fa8497b]\u001b[39m\u001b[92m + Future \u001b[39m\n",
      " \u001b[90m [1a1011a3]\u001b[39m\u001b[92m + SharedArrays \u001b[39m\n",
      " \u001b[90m [2f01184e]\u001b[39m\u001b[92m + SparseArrays \u001b[39m\n",
      " \u001b[90m [10745b16]\u001b[39m\u001b[92m + Statistics \u001b[39m\n",
      "\u001b[32m\u001b[1m  Resolving\u001b[22m\u001b[39m package versions...\n",
      "\u001b[32m\u001b[1m   Updating\u001b[22m\u001b[39m `C:\\Users\\cytogen\\.julia\\environments\\v1.4\\Project.toml`\n",
      " \u001b[90m [a93c6f00]\u001b[39m\u001b[92m + DataFrames v0.20.2\u001b[39m\n",
      "\u001b[32m\u001b[1m   Updating\u001b[22m\u001b[39m `C:\\Users\\cytogen\\.julia\\environments\\v1.4\\Manifest.toml`\n",
      "\u001b[90m [no changes]\u001b[39m\n",
      "┌ Info: Precompiling CSV [336ed68f-0bac-5ca0-87d4-7b16caf5d00b]\n",
      "└ @ Base loading.jl:1260\n",
      "┌ Warning: `head(df::AbstractDataFrame)` is deprecated, use `first(df, 6)` instead.\n",
      "│   caller = top-level scope at In[1]:8\n",
      "└ @ Core In[1]:8\n",
      "┌ Warning: `tail(df::AbstractDataFrame)` is deprecated, use `last(df, 6)` instead.\n",
      "│   caller = top-level scope at In[1]:10\n",
      "└ @ Core In[1]:10\n"
     ]
    },
    {
     "data": {
      "text/html": [
       "<table class=\"data-frame\"><thead><tr><th></th><th>Column1</th><th>Sampleid</th><th>Tissue</th><th>Sampletype</th></tr><tr><th></th><th>String</th><th>String</th><th>String⍰</th><th>String</th></tr></thead><tbody><p>6 rows × 25,156 columns (omitted printing of 25152 columns)</p><tr><th>1</th><td>GTEX-POMQ-0126-SM-48TD6</td><td>GTEX-POMQ-0126-SM-48TD6</td><td>Spleen</td><td>RNA isolation_PAXgene Tissue miRNA</td></tr><tr><th>2</th><td>GTEX-X3Y1-0326-SM-4PQZ7</td><td>GTEX-X3Y1-0326-SM-4PQZ7</td><td>Blood Vessel</td><td>RNA isolation_PAXgene Tissue miRNA</td></tr><tr><th>3</th><td>GTEX-N7MT-0126-SM-26GMB</td><td>GTEX-N7MT-0126-SM-26GMB</td><td>Lung</td><td>RNA isolation_PAXgene Tissue miRNA</td></tr><tr><th>4</th><td>GTEX-NPJ8-1526-SM-26GMH</td><td>GTEX-NPJ8-1526-SM-26GMH</td><td>Brain</td><td>RNA isolation_PAXgene Tissue miRNA</td></tr><tr><th>5</th><td>GTEX-QV44-0926-SM-2S1RH</td><td>GTEX-QV44-0926-SM-2S1RH</td><td>Lung</td><td>RNA isolation_Trizol Manual (Cell Pellet)</td></tr><tr><th>6</th><td>GTEX-QVJO-1926-SM-2S1QZ</td><td>GTEX-QVJO-1926-SM-2S1QZ</td><td>Heart</td><td>RNA isolation_Trizol Manual (Cell Pellet)</td></tr></tbody></table>"
      ],
      "text/latex": [
       "\\begin{tabular}{r|ccccc}\n",
       "\t& Column1 & Sampleid & Tissue & Sampletype & \\\\\n",
       "\t\\hline\n",
       "\t& String & String & String⍰ & String & \\\\\n",
       "\t\\hline\n",
       "\t1 & GTEX-POMQ-0126-SM-48TD6 & GTEX-POMQ-0126-SM-48TD6 & Spleen & RNA isolation\\_PAXgene Tissue miRNA & $\\dots$ \\\\\n",
       "\t2 & GTEX-X3Y1-0326-SM-4PQZ7 & GTEX-X3Y1-0326-SM-4PQZ7 & Blood Vessel & RNA isolation\\_PAXgene Tissue miRNA & $\\dots$ \\\\\n",
       "\t3 & GTEX-N7MT-0126-SM-26GMB & GTEX-N7MT-0126-SM-26GMB & Lung & RNA isolation\\_PAXgene Tissue miRNA & $\\dots$ \\\\\n",
       "\t4 & GTEX-NPJ8-1526-SM-26GMH & GTEX-NPJ8-1526-SM-26GMH & Brain & RNA isolation\\_PAXgene Tissue miRNA & $\\dots$ \\\\\n",
       "\t5 & GTEX-QV44-0926-SM-2S1RH & GTEX-QV44-0926-SM-2S1RH & Lung & RNA isolation\\_Trizol Manual (Cell Pellet) & $\\dots$ \\\\\n",
       "\t6 & GTEX-QVJO-1926-SM-2S1QZ & GTEX-QVJO-1926-SM-2S1QZ & Heart & RNA isolation\\_Trizol Manual (Cell Pellet) & $\\dots$ \\\\\n",
       "\\end{tabular}\n"
      ],
      "text/plain": [
       "6×25156 DataFrame. Omitted printing of 25153 columns\n",
       "│ Row │ Column1                 │ Sampleid                │ Tissue       │\n",
       "│     │ \u001b[90mString\u001b[39m                  │ \u001b[90mString\u001b[39m                  │ \u001b[90mString⍰\u001b[39m      │\n",
       "├─────┼─────────────────────────┼─────────────────────────┼──────────────┤\n",
       "│ 1   │ GTEX-POMQ-0126-SM-48TD6 │ GTEX-POMQ-0126-SM-48TD6 │ Spleen       │\n",
       "│ 2   │ GTEX-X3Y1-0326-SM-4PQZ7 │ GTEX-X3Y1-0326-SM-4PQZ7 │ Blood Vessel │\n",
       "│ 3   │ GTEX-N7MT-0126-SM-26GMB │ GTEX-N7MT-0126-SM-26GMB │ Lung         │\n",
       "│ 4   │ GTEX-NPJ8-1526-SM-26GMH │ GTEX-NPJ8-1526-SM-26GMH │ Brain        │\n",
       "│ 5   │ GTEX-QV44-0926-SM-2S1RH │ GTEX-QV44-0926-SM-2S1RH │ Lung         │\n",
       "│ 6   │ GTEX-QVJO-1926-SM-2S1QZ │ GTEX-QVJO-1926-SM-2S1QZ │ Heart        │"
      ]
     },
     "execution_count": 1,
     "metadata": {},
     "output_type": "execute_result"
    }
   ],
   "source": [
    "using Pkg\n",
    "Pkg.add(\"CSV\")\n",
    "Pkg.add(\"DataFrames\")\n",
    "using CSV\n",
    "using DataFrames\n",
    "\n",
    "df = CSV.read(\"H:\\\\TCGA\\\\00ARCHs4_h5\\\\200330TCGA_GTEx.csv\")\n",
    "\n",
    "head(df)\n",
    "tail(df)"
   ]
  },
  {
   "cell_type": "code",
   "execution_count": 3,
   "metadata": {
    "scrolled": true
   },
   "outputs": [
    {
     "data": {
      "text/html": [
       "<table class=\"data-frame\"><thead><tr><th></th><th>Column1</th><th>TCGA-DD-AAVP-01A-11R</th><th>TCGA-KK-A7B2-01A-12R</th><th>TCGA-DC-6158-01A-11R</th><th>TCGA-DD-A4NP-01A-11R</th></tr><tr><th></th><th>String</th><th>Int64</th><th>Int64</th><th>Int64</th><th>Int64</th></tr></thead><tbody><p>25,150 rows × 11,285 columns (omitted printing of 11280 columns)</p><tr><th>1</th><td>A1BG</td><td>1454762</td><td>28886</td><td>4322</td><td>23043947</td></tr><tr><th>2</th><td>A1BG-AS1</td><td>439935</td><td>23917</td><td>9719</td><td>6740613</td></tr><tr><th>3</th><td>A1CF</td><td>316636</td><td>192</td><td>154254</td><td>983141</td></tr><tr><th>4</th><td>A2M</td><td>641105</td><td>2361023</td><td>2025563</td><td>15232711</td></tr><tr><th>5</th><td>A2M-AS1</td><td>39171</td><td>138823</td><td>28984</td><td>899079</td></tr><tr><th>6</th><td>A2ML1</td><td>0</td><td>10757</td><td>104</td><td>242</td></tr><tr><th>7</th><td>A2MP1</td><td>630</td><td>1538</td><td>1421</td><td>15854</td></tr><tr><th>8</th><td>A3GALT2</td><td>50</td><td>10</td><td>160</td><td>2</td></tr><tr><th>9</th><td>A4GALT</td><td>12380</td><td>238345</td><td>129069</td><td>69336</td></tr><tr><th>10</th><td>A4GNT</td><td>0</td><td>0</td><td>132</td><td>0</td></tr><tr><th>11</th><td>AA06</td><td>0</td><td>0</td><td>20</td><td>0</td></tr><tr><th>12</th><td>AAAS</td><td>122018</td><td>210986</td><td>120345</td><td>220953</td></tr><tr><th>13</th><td>AACS</td><td>34460</td><td>143682</td><td>208916</td><td>67551</td></tr><tr><th>14</th><td>AACSP1</td><td>0</td><td>193</td><td>311</td><td>24</td></tr><tr><th>15</th><td>AADAC</td><td>2356784</td><td>1016</td><td>721</td><td>4461296</td></tr><tr><th>16</th><td>AADACL2</td><td>192</td><td>0</td><td>26</td><td>215</td></tr><tr><th>17</th><td>AADACL3</td><td>0</td><td>0</td><td>0</td><td>46</td></tr><tr><th>18</th><td>AADACL4</td><td>0</td><td>96</td><td>0</td><td>0</td></tr><tr><th>19</th><td>AADACP1</td><td>27838</td><td>288</td><td>4388</td><td>56820</td></tr><tr><th>20</th><td>AADAT</td><td>6043</td><td>104843</td><td>16523</td><td>96496</td></tr><tr><th>21</th><td>AAED1</td><td>29250</td><td>90792</td><td>56679</td><td>97410</td></tr><tr><th>22</th><td>AAGAB</td><td>61093</td><td>202931</td><td>280694</td><td>126478</td></tr><tr><th>23</th><td>AAK1</td><td>86640</td><td>201160</td><td>199861</td><td>121248</td></tr><tr><th>24</th><td>AAMDC</td><td>38188</td><td>152745</td><td>35897</td><td>115139</td></tr><tr><th>25</th><td>AAMP</td><td>299382</td><td>759147</td><td>754167</td><td>556003</td></tr><tr><th>26</th><td>AANAT</td><td>0</td><td>1088</td><td>456</td><td>426</td></tr><tr><th>27</th><td>AAR2</td><td>137891</td><td>247838</td><td>329113</td><td>263011</td></tr><tr><th>28</th><td>AARD</td><td>0</td><td>1455</td><td>2675</td><td>190</td></tr><tr><th>29</th><td>AARS</td><td>602707</td><td>518795</td><td>845470</td><td>842321</td></tr><tr><th>30</th><td>AARS2</td><td>43459</td><td>89448</td><td>96976</td><td>77778</td></tr><tr><th>&vellip;</th><td>&vellip;</td><td>&vellip;</td><td>&vellip;</td><td>&vellip;</td><td>&vellip;</td></tr></tbody></table>"
      ],
      "text/latex": [
       "\\begin{tabular}{r|cccccc}\n",
       "\t& Column1 & TCGA-DD-AAVP-01A-11R & TCGA-KK-A7B2-01A-12R & TCGA-DC-6158-01A-11R & TCGA-DD-A4NP-01A-11R & \\\\\n",
       "\t\\hline\n",
       "\t& String & Int64 & Int64 & Int64 & Int64 & \\\\\n",
       "\t\\hline\n",
       "\t1 & A1BG & 1454762 & 28886 & 4322 & 23043947 & $\\dots$ \\\\\n",
       "\t2 & A1BG-AS1 & 439935 & 23917 & 9719 & 6740613 & $\\dots$ \\\\\n",
       "\t3 & A1CF & 316636 & 192 & 154254 & 983141 & $\\dots$ \\\\\n",
       "\t4 & A2M & 641105 & 2361023 & 2025563 & 15232711 & $\\dots$ \\\\\n",
       "\t5 & A2M-AS1 & 39171 & 138823 & 28984 & 899079 & $\\dots$ \\\\\n",
       "\t6 & A2ML1 & 0 & 10757 & 104 & 242 & $\\dots$ \\\\\n",
       "\t7 & A2MP1 & 630 & 1538 & 1421 & 15854 & $\\dots$ \\\\\n",
       "\t8 & A3GALT2 & 50 & 10 & 160 & 2 & $\\dots$ \\\\\n",
       "\t9 & A4GALT & 12380 & 238345 & 129069 & 69336 & $\\dots$ \\\\\n",
       "\t10 & A4GNT & 0 & 0 & 132 & 0 & $\\dots$ \\\\\n",
       "\t11 & AA06 & 0 & 0 & 20 & 0 & $\\dots$ \\\\\n",
       "\t12 & AAAS & 122018 & 210986 & 120345 & 220953 & $\\dots$ \\\\\n",
       "\t13 & AACS & 34460 & 143682 & 208916 & 67551 & $\\dots$ \\\\\n",
       "\t14 & AACSP1 & 0 & 193 & 311 & 24 & $\\dots$ \\\\\n",
       "\t15 & AADAC & 2356784 & 1016 & 721 & 4461296 & $\\dots$ \\\\\n",
       "\t16 & AADACL2 & 192 & 0 & 26 & 215 & $\\dots$ \\\\\n",
       "\t17 & AADACL3 & 0 & 0 & 0 & 46 & $\\dots$ \\\\\n",
       "\t18 & AADACL4 & 0 & 96 & 0 & 0 & $\\dots$ \\\\\n",
       "\t19 & AADACP1 & 27838 & 288 & 4388 & 56820 & $\\dots$ \\\\\n",
       "\t20 & AADAT & 6043 & 104843 & 16523 & 96496 & $\\dots$ \\\\\n",
       "\t21 & AAED1 & 29250 & 90792 & 56679 & 97410 & $\\dots$ \\\\\n",
       "\t22 & AAGAB & 61093 & 202931 & 280694 & 126478 & $\\dots$ \\\\\n",
       "\t23 & AAK1 & 86640 & 201160 & 199861 & 121248 & $\\dots$ \\\\\n",
       "\t24 & AAMDC & 38188 & 152745 & 35897 & 115139 & $\\dots$ \\\\\n",
       "\t25 & AAMP & 299382 & 759147 & 754167 & 556003 & $\\dots$ \\\\\n",
       "\t26 & AANAT & 0 & 1088 & 456 & 426 & $\\dots$ \\\\\n",
       "\t27 & AAR2 & 137891 & 247838 & 329113 & 263011 & $\\dots$ \\\\\n",
       "\t28 & AARD & 0 & 1455 & 2675 & 190 & $\\dots$ \\\\\n",
       "\t29 & AARS & 602707 & 518795 & 845470 & 842321 & $\\dots$ \\\\\n",
       "\t30 & AARS2 & 43459 & 89448 & 96976 & 77778 & $\\dots$ \\\\\n",
       "\t$\\dots$ & $\\dots$ & $\\dots$ & $\\dots$ & $\\dots$ & $\\dots$ &  \\\\\n",
       "\\end{tabular}\n"
      ],
      "text/plain": [
       "25150×11285 DataFrame. Omitted printing of 11282 columns\n",
       "│ Row   │ Column1  │ TCGA-DD-AAVP-01A-11R │ TCGA-KK-A7B2-01A-12R │\n",
       "│       │ \u001b[90mString\u001b[39m   │ \u001b[90mInt64\u001b[39m                │ \u001b[90mInt64\u001b[39m                │\n",
       "├───────┼──────────┼──────────────────────┼──────────────────────┤\n",
       "│ 1     │ A1BG     │ 1454762              │ 28886                │\n",
       "│ 2     │ A1BG-AS1 │ 439935               │ 23917                │\n",
       "│ 3     │ A1CF     │ 316636               │ 192                  │\n",
       "│ 4     │ A2M      │ 641105               │ 2361023              │\n",
       "│ 5     │ A2M-AS1  │ 39171                │ 138823               │\n",
       "│ 6     │ A2ML1    │ 0                    │ 10757                │\n",
       "│ 7     │ A2MP1    │ 630                  │ 1538                 │\n",
       "│ 8     │ A3GALT2  │ 50                   │ 10                   │\n",
       "│ 9     │ A4GALT   │ 12380                │ 238345               │\n",
       "│ 10    │ A4GNT    │ 0                    │ 0                    │\n",
       "⋮\n",
       "│ 25140 │ ZW10     │ 24649                │ 70049                │\n",
       "│ 25141 │ ZWILCH   │ 9345                 │ 26355                │\n",
       "│ 25142 │ ZWINT    │ 19795                │ 21156                │\n",
       "│ 25143 │ ZXDA     │ 3579                 │ 11269                │\n",
       "│ 25144 │ ZXDB     │ 8192                 │ 55211                │\n",
       "│ 25145 │ ZXDC     │ 46912                │ 100123               │\n",
       "│ 25146 │ ZYG11A   │ 621                  │ 6864                 │\n",
       "│ 25147 │ ZYG11B   │ 53209                │ 90816                │\n",
       "│ 25148 │ ZYX      │ 302428               │ 1009426              │\n",
       "│ 25149 │ ZZEF1    │ 29863                │ 156109               │\n",
       "│ 25150 │ ZZZ3     │ 44717                │ 108371               │"
      ]
     },
     "execution_count": 3,
     "metadata": {},
     "output_type": "execute_result"
    }
   ],
   "source": [
    "ex_TCGA = CSV.read(\"H:\\\\TCGA\\\\02Breast\\\\Bar200213TCGAAllcancer.csv\")"
   ]
  },
  {
   "cell_type": "markdown",
   "metadata": {},
   "source": [
    "## transpose dataframe"
   ]
  },
  {
   "cell_type": "code",
   "execution_count": 7,
   "metadata": {
    "scrolled": true
   },
   "outputs": [
    {
     "data": {
      "text/html": [
       "<table class=\"data-frame\"><thead><tr><th></th><th>column</th><th>1</th><th>2</th><th>3</th><th>4</th><th>5</th><th>6</th><th>7</th></tr><tr><th></th><th>Any</th><th>Any</th><th>Any</th><th>Any</th><th>Any</th><th>Any</th><th>Any</th><th>Any</th></tr></thead><tbody><p>11,285 rows × 25,151 columns (omitted printing of 25143 columns)</p><tr><th>1</th><td>Column1</td><td>A1BG</td><td>A1BG-AS1</td><td>A1CF</td><td>A2M</td><td>A2M-AS1</td><td>A2ML1</td><td>A2MP1</td></tr><tr><th>2</th><td>TCGA-DD-AAVP-01A-11R</td><td>1454762</td><td>439935</td><td>316636</td><td>641105</td><td>39171</td><td>0</td><td>630</td></tr><tr><th>3</th><td>TCGA-KK-A7B2-01A-12R</td><td>28886</td><td>23917</td><td>192</td><td>2361023</td><td>138823</td><td>10757</td><td>1538</td></tr><tr><th>4</th><td>TCGA-DC-6158-01A-11R</td><td>4322</td><td>9719</td><td>154254</td><td>2025563</td><td>28984</td><td>104</td><td>1421</td></tr><tr><th>5</th><td>TCGA-DD-A4NP-01A-11R</td><td>23043947</td><td>6740613</td><td>983141</td><td>15232711</td><td>899079</td><td>242</td><td>15854</td></tr><tr><th>6</th><td>TCGA-HQ-A5ND-01A-11R</td><td>3273</td><td>4893</td><td>270</td><td>719684</td><td>23653</td><td>163497</td><td>296</td></tr><tr><th>7</th><td>TCGA-HT-A614-01A-11R</td><td>25637</td><td>21300</td><td>136</td><td>2021283</td><td>89749</td><td>193639</td><td>10349</td></tr><tr><th>8</th><td>TCGA-E2-A1IU-01A-11R</td><td>43249</td><td>58931</td><td>9</td><td>2266509</td><td>50947</td><td>1239</td><td>2090</td></tr><tr><th>9</th><td>TCGA-D1-A17N-01A-11R</td><td>13269</td><td>19411</td><td>0</td><td>1423402</td><td>34729</td><td>1316</td><td>1866</td></tr><tr><th>10</th><td>TCGA-HS-A5NA-01A-11R</td><td>16823</td><td>20052</td><td>275</td><td>10274439</td><td>209562</td><td>485</td><td>667</td></tr><tr><th>11</th><td>TCGA-B0-5088-01A-01R</td><td>17744</td><td>24912</td><td>207609</td><td>11230968</td><td>421799</td><td>1247</td><td>14918</td></tr><tr><th>12</th><td>TCGA-S7-A7WN-01A-12R</td><td>135336</td><td>106778</td><td>116</td><td>3659279</td><td>86536</td><td>400</td><td>1478</td></tr><tr><th>13</th><td>TCGA-BG-A0M6-01A-31R</td><td>18095</td><td>19472</td><td>47</td><td>525539</td><td>9030</td><td>10738</td><td>620</td></tr><tr><th>14</th><td>TCGA-FA-A7Q1-01A-11R</td><td>32706</td><td>37846</td><td>144</td><td>845488</td><td>29423</td><td>12175</td><td>591</td></tr><tr><th>15</th><td>TCGA-MQ-A6BR-01A-11R</td><td>89407</td><td>41271</td><td>26</td><td>896557</td><td>56668</td><td>74</td><td>796</td></tr><tr><th>16</th><td>TCGA-A1-A0SB-01A-11R</td><td>12559</td><td>28278</td><td>80</td><td>7724018</td><td>122284</td><td>1816</td><td>16460</td></tr><tr><th>17</th><td>TCGA-4V-A9QX-01A-11R</td><td>143835</td><td>58669</td><td>197</td><td>623902</td><td>73371</td><td>153</td><td>1289</td></tr><tr><th>18</th><td>TCGA-77-A5GF-01A-21R</td><td>7563</td><td>10459</td><td>301</td><td>671895</td><td>19763</td><td>17373</td><td>359</td></tr><tr><th>19</th><td>TCGA-61-1740-01A-01R</td><td>90348</td><td>138057</td><td>442</td><td>6161382</td><td>229993</td><td>30612</td><td>2483</td></tr><tr><th>20</th><td>TCGA-E1-5311-01A-01R</td><td>32355</td><td>35762</td><td>102</td><td>1524519</td><td>29999</td><td>49070</td><td>8896</td></tr><tr><th>21</th><td>TCGA-VM-A8CF-01A-11R</td><td>70372</td><td>53111</td><td>96</td><td>2718973</td><td>281383</td><td>26881</td><td>1807</td></tr><tr><th>22</th><td>TCGA-62-A471-01A-12R</td><td>7692</td><td>9805</td><td>192</td><td>724772</td><td>43314</td><td>1327</td><td>812</td></tr><tr><th>23</th><td>TCGA-BR-8368-01A-11R</td><td>10604</td><td>13997</td><td>139670</td><td>2943824</td><td>101931</td><td>5623</td><td>2725</td></tr><tr><th>24</th><td>TCGA-14-1034-02B-01R</td><td>17890</td><td>22977</td><td>670</td><td>5229326</td><td>69898</td><td>12020</td><td>2493</td></tr><tr><th>25</th><td>TCGA-14-1034-01A-01R</td><td>11268</td><td>16926</td><td>97</td><td>29689588</td><td>632350</td><td>70052</td><td>5891</td></tr><tr><th>26</th><td>TCGA-G9-6377-01A-11R</td><td>7042</td><td>12842</td><td>31</td><td>1625873</td><td>62126</td><td>3345</td><td>740</td></tr><tr><th>27</th><td>TCGA-A2-A04W-01A-31R</td><td>30706</td><td>23191</td><td>15</td><td>4525303</td><td>146595</td><td>30510</td><td>1277</td></tr><tr><th>28</th><td>TCGA-AB-2901-03A-01T</td><td>25044</td><td>50996</td><td>32</td><td>21060</td><td>9312</td><td>995</td><td>4892</td></tr><tr><th>29</th><td>TCGA-67-3773-01A-01R</td><td>10479</td><td>7332</td><td>0</td><td>2261358</td><td>85052</td><td>10</td><td>1633</td></tr><tr><th>30</th><td>TCGA-EL-A3N3-01A-11R</td><td>38307</td><td>37862</td><td>48</td><td>1984510</td><td>46805</td><td>226</td><td>1272</td></tr><tr><th>&vellip;</th><td>&vellip;</td><td>&vellip;</td><td>&vellip;</td><td>&vellip;</td><td>&vellip;</td><td>&vellip;</td><td>&vellip;</td><td>&vellip;</td></tr></tbody></table>"
      ],
      "text/latex": [
       "\\begin{tabular}{r|ccccccccc}\n",
       "\t& column & 1 & 2 & 3 & 4 & 5 & 6 & 7 & \\\\\n",
       "\t\\hline\n",
       "\t& Any & Any & Any & Any & Any & Any & Any & Any & \\\\\n",
       "\t\\hline\n",
       "\t1 & Column1 & A1BG & A1BG-AS1 & A1CF & A2M & A2M-AS1 & A2ML1 & A2MP1 & $\\dots$ \\\\\n",
       "\t2 & TCGA-DD-AAVP-01A-11R & 1454762 & 439935 & 316636 & 641105 & 39171 & 0 & 630 & $\\dots$ \\\\\n",
       "\t3 & TCGA-KK-A7B2-01A-12R & 28886 & 23917 & 192 & 2361023 & 138823 & 10757 & 1538 & $\\dots$ \\\\\n",
       "\t4 & TCGA-DC-6158-01A-11R & 4322 & 9719 & 154254 & 2025563 & 28984 & 104 & 1421 & $\\dots$ \\\\\n",
       "\t5 & TCGA-DD-A4NP-01A-11R & 23043947 & 6740613 & 983141 & 15232711 & 899079 & 242 & 15854 & $\\dots$ \\\\\n",
       "\t6 & TCGA-HQ-A5ND-01A-11R & 3273 & 4893 & 270 & 719684 & 23653 & 163497 & 296 & $\\dots$ \\\\\n",
       "\t7 & TCGA-HT-A614-01A-11R & 25637 & 21300 & 136 & 2021283 & 89749 & 193639 & 10349 & $\\dots$ \\\\\n",
       "\t8 & TCGA-E2-A1IU-01A-11R & 43249 & 58931 & 9 & 2266509 & 50947 & 1239 & 2090 & $\\dots$ \\\\\n",
       "\t9 & TCGA-D1-A17N-01A-11R & 13269 & 19411 & 0 & 1423402 & 34729 & 1316 & 1866 & $\\dots$ \\\\\n",
       "\t10 & TCGA-HS-A5NA-01A-11R & 16823 & 20052 & 275 & 10274439 & 209562 & 485 & 667 & $\\dots$ \\\\\n",
       "\t11 & TCGA-B0-5088-01A-01R & 17744 & 24912 & 207609 & 11230968 & 421799 & 1247 & 14918 & $\\dots$ \\\\\n",
       "\t12 & TCGA-S7-A7WN-01A-12R & 135336 & 106778 & 116 & 3659279 & 86536 & 400 & 1478 & $\\dots$ \\\\\n",
       "\t13 & TCGA-BG-A0M6-01A-31R & 18095 & 19472 & 47 & 525539 & 9030 & 10738 & 620 & $\\dots$ \\\\\n",
       "\t14 & TCGA-FA-A7Q1-01A-11R & 32706 & 37846 & 144 & 845488 & 29423 & 12175 & 591 & $\\dots$ \\\\\n",
       "\t15 & TCGA-MQ-A6BR-01A-11R & 89407 & 41271 & 26 & 896557 & 56668 & 74 & 796 & $\\dots$ \\\\\n",
       "\t16 & TCGA-A1-A0SB-01A-11R & 12559 & 28278 & 80 & 7724018 & 122284 & 1816 & 16460 & $\\dots$ \\\\\n",
       "\t17 & TCGA-4V-A9QX-01A-11R & 143835 & 58669 & 197 & 623902 & 73371 & 153 & 1289 & $\\dots$ \\\\\n",
       "\t18 & TCGA-77-A5GF-01A-21R & 7563 & 10459 & 301 & 671895 & 19763 & 17373 & 359 & $\\dots$ \\\\\n",
       "\t19 & TCGA-61-1740-01A-01R & 90348 & 138057 & 442 & 6161382 & 229993 & 30612 & 2483 & $\\dots$ \\\\\n",
       "\t20 & TCGA-E1-5311-01A-01R & 32355 & 35762 & 102 & 1524519 & 29999 & 49070 & 8896 & $\\dots$ \\\\\n",
       "\t21 & TCGA-VM-A8CF-01A-11R & 70372 & 53111 & 96 & 2718973 & 281383 & 26881 & 1807 & $\\dots$ \\\\\n",
       "\t22 & TCGA-62-A471-01A-12R & 7692 & 9805 & 192 & 724772 & 43314 & 1327 & 812 & $\\dots$ \\\\\n",
       "\t23 & TCGA-BR-8368-01A-11R & 10604 & 13997 & 139670 & 2943824 & 101931 & 5623 & 2725 & $\\dots$ \\\\\n",
       "\t24 & TCGA-14-1034-02B-01R & 17890 & 22977 & 670 & 5229326 & 69898 & 12020 & 2493 & $\\dots$ \\\\\n",
       "\t25 & TCGA-14-1034-01A-01R & 11268 & 16926 & 97 & 29689588 & 632350 & 70052 & 5891 & $\\dots$ \\\\\n",
       "\t26 & TCGA-G9-6377-01A-11R & 7042 & 12842 & 31 & 1625873 & 62126 & 3345 & 740 & $\\dots$ \\\\\n",
       "\t27 & TCGA-A2-A04W-01A-31R & 30706 & 23191 & 15 & 4525303 & 146595 & 30510 & 1277 & $\\dots$ \\\\\n",
       "\t28 & TCGA-AB-2901-03A-01T & 25044 & 50996 & 32 & 21060 & 9312 & 995 & 4892 & $\\dots$ \\\\\n",
       "\t29 & TCGA-67-3773-01A-01R & 10479 & 7332 & 0 & 2261358 & 85052 & 10 & 1633 & $\\dots$ \\\\\n",
       "\t30 & TCGA-EL-A3N3-01A-11R & 38307 & 37862 & 48 & 1984510 & 46805 & 226 & 1272 & $\\dots$ \\\\\n",
       "\t$\\dots$ & $\\dots$ & $\\dots$ & $\\dots$ & $\\dots$ & $\\dots$ & $\\dots$ & $\\dots$ & $\\dots$ &  \\\\\n",
       "\\end{tabular}\n"
      ],
      "text/plain": [
       "11285×25151 DataFrame. Omitted printing of 25146 columns\n",
       "│ Row   │ column               │ 1        │ 2        │ 3      │ 4        │\n",
       "│       │ \u001b[90mAny\u001b[39m                  │ \u001b[90mAny\u001b[39m      │ \u001b[90mAny\u001b[39m      │ \u001b[90mAny\u001b[39m    │ \u001b[90mAny\u001b[39m      │\n",
       "├───────┼──────────────────────┼──────────┼──────────┼────────┼──────────┤\n",
       "│ 1     │ Column1              │ A1BG     │ A1BG-AS1 │ A1CF   │ A2M      │\n",
       "│ 2     │ TCGA-DD-AAVP-01A-11R │ 1454762  │ 439935   │ 316636 │ 641105   │\n",
       "│ 3     │ TCGA-KK-A7B2-01A-12R │ 28886    │ 23917    │ 192    │ 2361023  │\n",
       "│ 4     │ TCGA-DC-6158-01A-11R │ 4322     │ 9719     │ 154254 │ 2025563  │\n",
       "│ 5     │ TCGA-DD-A4NP-01A-11R │ 23043947 │ 6740613  │ 983141 │ 15232711 │\n",
       "│ 6     │ TCGA-HQ-A5ND-01A-11R │ 3273     │ 4893     │ 270    │ 719684   │\n",
       "│ 7     │ TCGA-HT-A614-01A-11R │ 25637    │ 21300    │ 136    │ 2021283  │\n",
       "│ 8     │ TCGA-E2-A1IU-01A-11R │ 43249    │ 58931    │ 9      │ 2266509  │\n",
       "│ 9     │ TCGA-D1-A17N-01A-11R │ 13269    │ 19411    │ 0      │ 1423402  │\n",
       "│ 10    │ TCGA-HS-A5NA-01A-11R │ 16823    │ 20052    │ 275    │ 10274439 │\n",
       "⋮\n",
       "│ 11275 │ TCGA-AB-2884-03A-01T │ 28894    │ 45725    │ 21     │ 14507    │\n",
       "│ 11276 │ TCGA-AB-2875-03A-01T │ 41641    │ 63178    │ 163    │ 11371    │\n",
       "│ 11277 │ TCGA-HT-7606-01A-11R │ 47544    │ 30943    │ 144    │ 2844439  │\n",
       "│ 11278 │ TCGA-CN-6016-01A-11R │ 27289    │ 20661    │ 0      │ 2756920  │\n",
       "│ 11279 │ TCGA-LN-A4A6-01A-11R │ 11571    │ 24137    │ 2460   │ 2120254  │\n",
       "│ 11280 │ TCGA-XS-A8TJ-01A-11R │ 9625     │ 12661    │ 264    │ 1005864  │\n",
       "│ 11281 │ TCGA-BP-4790-01A-01R │ 6130     │ 17677    │ 296126 │ 11013218 │\n",
       "│ 11282 │ TCGA-N9-A4Q4-01A-11R │ 118119   │ 42857    │ 383    │ 2440441  │\n",
       "│ 11283 │ TCGA-RY-A847-01A-11R │ 10570    │ 16608    │ 220    │ 3119931  │\n",
       "│ 11284 │ TCGA-AB-2881-03A-01T │ 28190    │ 52035    │ 157    │ 19993    │\n",
       "│ 11285 │ TCGA-DJ-A4V0-01A-11R │ 40426    │ 40053    │ 48     │ 3527179  │"
      ]
     },
     "execution_count": 7,
     "metadata": {},
     "output_type": "execute_result"
    }
   ],
   "source": [
    "exr_TCGA = DataFrame([[names(ex_TCGA)]; collect.(eachrow(ex_TCGA))], [:column; Symbol.(axes(ex_TCGA, 1))])"
   ]
  },
  {
   "cell_type": "code",
   "execution_count": 8,
   "metadata": {
    "scrolled": true
   },
   "outputs": [
    {
     "data": {
      "text/html": [
       "<table class=\"data-frame\"><thead><tr><th></th><th>Column1</th><th>GTEX-QMR6-1926-SM-32PL9</th><th>GTEX-T5JC-0011-R11A-SM-5S2RX</th><th>GTEX-POMQ-0326-SM-2I5FO</th></tr><tr><th></th><th>String</th><th>Int64</th><th>Int64</th><th>Int64</th></tr></thead><tbody><p>25,150 rows × 9,663 columns (omitted printing of 9659 columns)</p><tr><th>1</th><td>A1BG</td><td>64625</td><td>88327</td><td>7250</td></tr><tr><th>2</th><td>A1BG-AS1</td><td>91931</td><td>194325</td><td>12716</td></tr><tr><th>3</th><td>A1CF</td><td>4352</td><td>2352</td><td>297</td></tr><tr><th>4</th><td>A2M</td><td>128693262</td><td>1357514</td><td>10893448</td></tr><tr><th>5</th><td>A2M-AS1</td><td>3684864</td><td>180337</td><td>256664</td></tr><tr><th>6</th><td>A2ML1</td><td>683</td><td>32473</td><td>3502</td></tr><tr><th>7</th><td>A2MP1</td><td>38065</td><td>37792</td><td>7564</td></tr><tr><th>8</th><td>A3GALT2</td><td>892</td><td>10978</td><td>255</td></tr><tr><th>9</th><td>A4GALT</td><td>211998</td><td>13062</td><td>485843</td></tr><tr><th>10</th><td>A4GNT</td><td>9608</td><td>0</td><td>304</td></tr><tr><th>11</th><td>AA06</td><td>0</td><td>0</td><td>0</td></tr><tr><th>12</th><td>AAAS</td><td>604519</td><td>1562635</td><td>276211</td></tr><tr><th>13</th><td>AACS</td><td>86706</td><td>655422</td><td>200359</td></tr><tr><th>14</th><td>AACSP1</td><td>171</td><td>16714</td><td>28</td></tr><tr><th>15</th><td>AADAC</td><td>4554</td><td>1203</td><td>76</td></tr><tr><th>16</th><td>AADACL2</td><td>3344</td><td>538</td><td>227</td></tr><tr><th>17</th><td>AADACL3</td><td>0</td><td>0</td><td>0</td></tr><tr><th>18</th><td>AADACL4</td><td>0</td><td>0</td><td>0</td></tr><tr><th>19</th><td>AADACP1</td><td>0</td><td>790</td><td>379</td></tr><tr><th>20</th><td>AADAT</td><td>65335</td><td>47974</td><td>20217</td></tr><tr><th>21</th><td>AAED1</td><td>137389</td><td>107202</td><td>124763</td></tr><tr><th>22</th><td>AAGAB</td><td>254610</td><td>1144278</td><td>151620</td></tr><tr><th>23</th><td>AAK1</td><td>677597</td><td>12117550</td><td>1251577</td></tr><tr><th>24</th><td>AAMDC</td><td>158674</td><td>157566</td><td>338408</td></tr><tr><th>25</th><td>AAMP</td><td>607446</td><td>3086088</td><td>523657</td></tr><tr><th>26</th><td>AANAT</td><td>1366</td><td>9424</td><td>814</td></tr><tr><th>27</th><td>AAR2</td><td>205105</td><td>389618</td><td>198643</td></tr><tr><th>28</th><td>AARD</td><td>19094</td><td>10811</td><td>1710</td></tr><tr><th>29</th><td>AARS</td><td>619583</td><td>5875220</td><td>739806</td></tr><tr><th>30</th><td>AARS2</td><td>110019</td><td>643933</td><td>135191</td></tr><tr><th>&vellip;</th><td>&vellip;</td><td>&vellip;</td><td>&vellip;</td><td>&vellip;</td></tr></tbody></table>"
      ],
      "text/latex": [
       "\\begin{tabular}{r|ccccc}\n",
       "\t& Column1 & GTEX-QMR6-1926-SM-32PL9 & GTEX-T5JC-0011-R11A-SM-5S2RX & GTEX-POMQ-0326-SM-2I5FO & \\\\\n",
       "\t\\hline\n",
       "\t& String & Int64 & Int64 & Int64 & \\\\\n",
       "\t\\hline\n",
       "\t1 & A1BG & 64625 & 88327 & 7250 & $\\dots$ \\\\\n",
       "\t2 & A1BG-AS1 & 91931 & 194325 & 12716 & $\\dots$ \\\\\n",
       "\t3 & A1CF & 4352 & 2352 & 297 & $\\dots$ \\\\\n",
       "\t4 & A2M & 128693262 & 1357514 & 10893448 & $\\dots$ \\\\\n",
       "\t5 & A2M-AS1 & 3684864 & 180337 & 256664 & $\\dots$ \\\\\n",
       "\t6 & A2ML1 & 683 & 32473 & 3502 & $\\dots$ \\\\\n",
       "\t7 & A2MP1 & 38065 & 37792 & 7564 & $\\dots$ \\\\\n",
       "\t8 & A3GALT2 & 892 & 10978 & 255 & $\\dots$ \\\\\n",
       "\t9 & A4GALT & 211998 & 13062 & 485843 & $\\dots$ \\\\\n",
       "\t10 & A4GNT & 9608 & 0 & 304 & $\\dots$ \\\\\n",
       "\t11 & AA06 & 0 & 0 & 0 & $\\dots$ \\\\\n",
       "\t12 & AAAS & 604519 & 1562635 & 276211 & $\\dots$ \\\\\n",
       "\t13 & AACS & 86706 & 655422 & 200359 & $\\dots$ \\\\\n",
       "\t14 & AACSP1 & 171 & 16714 & 28 & $\\dots$ \\\\\n",
       "\t15 & AADAC & 4554 & 1203 & 76 & $\\dots$ \\\\\n",
       "\t16 & AADACL2 & 3344 & 538 & 227 & $\\dots$ \\\\\n",
       "\t17 & AADACL3 & 0 & 0 & 0 & $\\dots$ \\\\\n",
       "\t18 & AADACL4 & 0 & 0 & 0 & $\\dots$ \\\\\n",
       "\t19 & AADACP1 & 0 & 790 & 379 & $\\dots$ \\\\\n",
       "\t20 & AADAT & 65335 & 47974 & 20217 & $\\dots$ \\\\\n",
       "\t21 & AAED1 & 137389 & 107202 & 124763 & $\\dots$ \\\\\n",
       "\t22 & AAGAB & 254610 & 1144278 & 151620 & $\\dots$ \\\\\n",
       "\t23 & AAK1 & 677597 & 12117550 & 1251577 & $\\dots$ \\\\\n",
       "\t24 & AAMDC & 158674 & 157566 & 338408 & $\\dots$ \\\\\n",
       "\t25 & AAMP & 607446 & 3086088 & 523657 & $\\dots$ \\\\\n",
       "\t26 & AANAT & 1366 & 9424 & 814 & $\\dots$ \\\\\n",
       "\t27 & AAR2 & 205105 & 389618 & 198643 & $\\dots$ \\\\\n",
       "\t28 & AARD & 19094 & 10811 & 1710 & $\\dots$ \\\\\n",
       "\t29 & AARS & 619583 & 5875220 & 739806 & $\\dots$ \\\\\n",
       "\t30 & AARS2 & 110019 & 643933 & 135191 & $\\dots$ \\\\\n",
       "\t$\\dots$ & $\\dots$ & $\\dots$ & $\\dots$ & $\\dots$ &  \\\\\n",
       "\\end{tabular}\n"
      ],
      "text/plain": [
       "25150×9663 DataFrame. Omitted printing of 9660 columns\n",
       "│ Row   │ Column1  │ GTEX-QMR6-1926-SM-32PL9 │ GTEX-T5JC-0011-R11A-SM-5S2RX │\n",
       "│       │ \u001b[90mString\u001b[39m   │ \u001b[90mInt64\u001b[39m                   │ \u001b[90mInt64\u001b[39m                        │\n",
       "├───────┼──────────┼─────────────────────────┼──────────────────────────────┤\n",
       "│ 1     │ A1BG     │ 64625                   │ 88327                        │\n",
       "│ 2     │ A1BG-AS1 │ 91931                   │ 194325                       │\n",
       "│ 3     │ A1CF     │ 4352                    │ 2352                         │\n",
       "│ 4     │ A2M      │ 128693262               │ 1357514                      │\n",
       "│ 5     │ A2M-AS1  │ 3684864                 │ 180337                       │\n",
       "│ 6     │ A2ML1    │ 683                     │ 32473                        │\n",
       "│ 7     │ A2MP1    │ 38065                   │ 37792                        │\n",
       "│ 8     │ A3GALT2  │ 892                     │ 10978                        │\n",
       "│ 9     │ A4GALT   │ 211998                  │ 13062                        │\n",
       "│ 10    │ A4GNT    │ 9608                    │ 0                            │\n",
       "⋮\n",
       "│ 25140 │ ZW10     │ 113328                  │ 501959                       │\n",
       "│ 25141 │ ZWILCH   │ 100926                  │ 387866                       │\n",
       "│ 25142 │ ZWINT    │ 46899                   │ 60447                        │\n",
       "│ 25143 │ ZXDA     │ 46018                   │ 106568                       │\n",
       "│ 25144 │ ZXDB     │ 151402                  │ 734606                       │\n",
       "│ 25145 │ ZXDC     │ 420155                  │ 572138                       │\n",
       "│ 25146 │ ZYG11A   │ 3428                    │ 33228                        │\n",
       "│ 25147 │ ZYG11B   │ 379137                  │ 5372800                      │\n",
       "│ 25148 │ ZYX      │ 5141780                 │ 1850593                      │\n",
       "│ 25149 │ ZZEF1    │ 1071715                 │ 2393384                      │\n",
       "│ 25150 │ ZZZ3     │ 285020                  │ 1338973                      │"
      ]
     },
     "execution_count": 8,
     "metadata": {},
     "output_type": "execute_result"
    }
   ],
   "source": [
    "ex_GTEx = CSV.read(\"H:\\\\TCGA\\\\01AllCancerTissue\\\\200213GTEXall.csv\")"
   ]
  },
  {
   "cell_type": "code",
   "execution_count": null,
   "metadata": {},
   "outputs": [],
   "source": [
    "exr_GTEx = DataFrame([[names(ex_GTEx)]; collect.(eachrow(ex_GTEx))], [:column; Symbol.(axes(ex_GTEx,1))])"
   ]
  },
  {
   "cell_type": "code",
   "execution_count": null,
   "metadata": {},
   "outputs": [],
   "source": [
    "CSV.write(\"200407_TCGA_GTEx.csv\", df)"
   ]
  },
  {
   "cell_type": "code",
   "execution_count": null,
   "metadata": {},
   "outputs": [],
   "source": [
    "df = DataFrame()\n",
    "Dict(\"A\"=>1, \"B\"=>2)"
   ]
  },
  {
   "cell_type": "code",
   "execution_count": null,
   "metadata": {},
   "outputs": [],
   "source": [
    "join(df1, df2, kind = :outer, on = intersect(names(df1), names(df2)))\n",
    "\n",
    "DataFrame([[names(df)]; collect.(eachrow(df))], [:column; Symbol.(axes(df, 1))])\n",
    "\n",
    "df3 = hcat(df1, df2, makeunique=true, copycols=false)"
   ]
  }
 ],
 "metadata": {
  "kernelspec": {
   "display_name": "Julia 1.4.0",
   "language": "julia",
   "name": "julia-1.4"
  },
  "language_info": {
   "file_extension": ".jl",
   "mimetype": "application/julia",
   "name": "julia",
   "version": "1.4.0"
  }
 },
 "nbformat": 4,
 "nbformat_minor": 4
}
